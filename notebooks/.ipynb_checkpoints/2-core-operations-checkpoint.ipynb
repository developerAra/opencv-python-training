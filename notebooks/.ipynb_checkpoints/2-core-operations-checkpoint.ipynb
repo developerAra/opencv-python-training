{
 "cells": [
  {
   "cell_type": "code",
   "execution_count": 1,
   "metadata": {},
   "outputs": [],
   "source": [
    "import cv2"
   ]
  },
  {
   "cell_type": "code",
   "execution_count": 24,
   "metadata": {},
   "outputs": [],
   "source": [
    "bernie = cv2.imread('../assets/bernie.jpg', cv2.IMREAD_COLOR)"
   ]
  },
  {
   "cell_type": "code",
   "execution_count": 3,
   "metadata": {},
   "outputs": [
    {
     "data": {
      "text/plain": [
       "array([[[104, 134, 191],\n",
       "        [109, 140, 195],\n",
       "        [114, 145, 200],\n",
       "        ...,\n",
       "        [ 20,  46,  82],\n",
       "        [ 21,  47,  83],\n",
       "        [ 42,  70, 105]],\n",
       "\n",
       "       [[104, 134, 191],\n",
       "        [109, 140, 195],\n",
       "        [115, 146, 201],\n",
       "        ...,\n",
       "        [ 23,  49,  85],\n",
       "        [ 18,  44,  80],\n",
       "        [ 35,  63,  98]],\n",
       "\n",
       "       [[103, 135, 188],\n",
       "        [111, 143, 196],\n",
       "        [116, 148, 201],\n",
       "        ...,\n",
       "        [ 32,  57,  89],\n",
       "        [ 24,  51,  85],\n",
       "        [ 21,  48,  82]],\n",
       "\n",
       "       ...,\n",
       "\n",
       "       [[  3,  25,  67],\n",
       "        [  2,  24,  65],\n",
       "        [  2,  24,  65],\n",
       "        ...,\n",
       "        [ 43,  63,  98],\n",
       "        [ 42,  62,  97],\n",
       "        [ 41,  61,  96]],\n",
       "\n",
       "       [[  2,  26,  68],\n",
       "        [  3,  25,  66],\n",
       "        [  3,  25,  66],\n",
       "        ...,\n",
       "        [ 43,  63,  98],\n",
       "        [ 42,  62,  97],\n",
       "        [ 41,  61,  96]],\n",
       "\n",
       "       [[  2,  26,  68],\n",
       "        [  4,  26,  67],\n",
       "        [  4,  26,  67],\n",
       "        ...,\n",
       "        [ 43,  63,  98],\n",
       "        [ 42,  62,  97],\n",
       "        [ 41,  61,  96]]], dtype=uint8)"
      ]
     },
     "execution_count": 3,
     "metadata": {},
     "output_type": "execute_result"
    }
   ],
   "source": [
    "image[302 : (302+322), 261: (261+339)]"
   ]
  },
  {
   "cell_type": "code",
   "execution_count": 4,
   "metadata": {},
   "outputs": [],
   "source": [
    "cropped = image[302 : (302 + 322), 261: (261 + 339)]"
   ]
  },
  {
   "cell_type": "code",
   "execution_count": 5,
   "metadata": {},
   "outputs": [],
   "source": [
    "cv2.namedWindow('image', cv2.WINDOW_NORMAL)\n",
    "cv2.imshow('image', image)\n",
    "cv2.imshow('cropped', cropped)\n",
    "cv2.waitKey(0)\n",
    "cv2.destroyAllWindows()"
   ]
  },
  {
   "cell_type": "code",
   "execution_count": 6,
   "metadata": {},
   "outputs": [],
   "source": [
    "modified_image = image[302 : (302+322), 261: (261+339)]\n",
    "modified_image[:, :, 0] = 123\n",
    "\n",
    "cv2.imshow('modified_image', modified_image)\n",
    "cv2.waitKey(0)\n",
    "cv2.destroyAllWindows()"
   ]
  },
  {
   "cell_type": "code",
   "execution_count": 15,
   "metadata": {},
   "outputs": [],
   "source": [
    "from_center = False\n",
    "region = cv2.selectROI(image, from_center)\n",
    "cv2.waitKey(0)\n",
    "cv2.destroyAllWindows()"
   ]
  },
  {
   "cell_type": "code",
   "execution_count": 16,
   "metadata": {},
   "outputs": [
    {
     "name": "stdout",
     "output_type": "stream",
     "text": [
      "(188, 271, 491, 404)\n"
     ]
    }
   ],
   "source": [
    "print(region)"
   ]
  },
  {
   "cell_type": "code",
   "execution_count": 17,
   "metadata": {},
   "outputs": [],
   "source": [
    "cropped_imageROI = image [271: (271 + 404), 188: (188 + 491)]\n",
    "\n",
    "cv2.imshow('croppedROI', cropped_imageROI)\n",
    "cv2.waitKey(0)\n",
    "cv2.destroyAllWindows()"
   ]
  },
  {
   "cell_type": "code",
   "execution_count": 25,
   "metadata": {},
   "outputs": [],
   "source": [
    "def show_image(image):\n",
    "    cv2.namedWindow('BERNIEEE', cv2.WINDOW_NORMAL)\n",
    "    cv2.imshow('BERNIEEE', image)\n",
    "    cv2.waitKey(0)\n",
    "    cv2.destroyAllWindows()"
   ]
  },
  {
   "cell_type": "code",
   "execution_count": 26,
   "metadata": {},
   "outputs": [],
   "source": [
    "grayscale_bernie = cv2.cvtColor(bernie, cv2.COLOR_BGR2GRAY)"
   ]
  },
  {
   "cell_type": "code",
   "execution_count": 27,
   "metadata": {},
   "outputs": [],
   "source": [
    "show_image(grayscale_bernie)"
   ]
  },
  {
   "cell_type": "code",
   "execution_count": 32,
   "metadata": {},
   "outputs": [],
   "source": [
    "bernie = cv2.imread('../assets/bernie.jpg', cv2.IMREAD_GRAYSCALE)\n",
    "show_image(bernie)"
   ]
  },
  {
   "cell_type": "code",
   "execution_count": 34,
   "metadata": {},
   "outputs": [],
   "source": [
    "bernie = cv2.imread('../assets/bernie.jpg', cv2.IMREAD_COLOR)\n",
    "bernie = cv2.cvtColor(bernie, cv2.COLOR_BGR2RGB)\n",
    "show_image(bernie)"
   ]
  },
  {
   "cell_type": "code",
   "execution_count": 35,
   "metadata": {},
   "outputs": [],
   "source": [
    "bernie = cv2.imread('../assets/bernie.jpg', cv2.IMREAD_COLOR)\n",
    "bernie = cv2.cvtColor(bernie, cv2.COLOR_BGR2HSV)\n",
    "show_image(bernie)"
   ]
  },
  {
   "cell_type": "code",
   "execution_count": 36,
   "metadata": {},
   "outputs": [],
   "source": [
    "bernie = cv2.imread('../assets/bernie.jpg', cv2.IMREAD_COLOR)\n",
    "howie = cv2.imread('../assets/howie.png', cv2.IMREAD_COLOR)"
   ]
  },
  {
   "cell_type": "code",
   "execution_count": 37,
   "metadata": {},
   "outputs": [],
   "source": [
    "sum = cv2.add(bernie, howie)\n",
    "show_image(sum)"
   ]
  },
  {
   "cell_type": "code",
   "execution_count": 38,
   "metadata": {},
   "outputs": [],
   "source": [
    "image_blend = cv2.addWeighted(bernie, 0.8, howie, 0.2, 0)\n",
    "show_image(image_blend)"
   ]
  },
  {
   "cell_type": "code",
   "execution_count": null,
   "metadata": {},
   "outputs": [],
   "source": [
    "#putting a logo in a picture (resizing, masking & putting together)"
   ]
  },
  {
   "cell_type": "code",
   "execution_count": 127,
   "metadata": {},
   "outputs": [],
   "source": [
    "acn = cv2.imread('../assets/accenture.png', cv2.IMREAD_COLOR)\n",
    "ara = cv2.imread('../assets/ara.png', cv2.IMREAD_COLOR)\n",
    "cap = cv2.VideoCapture(0)"
   ]
  },
  {
   "cell_type": "code",
   "execution_count": null,
   "metadata": {},
   "outputs": [],
   "source": [
    "print(acn.shape)"
   ]
  },
  {
   "cell_type": "code",
   "execution_count": null,
   "metadata": {},
   "outputs": [],
   "source": [
    "#resizing the logo\n",
    "acn = cv2.resize(acn, (int(acn.shape[1] * 0.25), int(acn.shape[0] * 0.25)))\n"
   ]
  },
  {
   "cell_type": "code",
   "execution_count": null,
   "metadata": {},
   "outputs": [],
   "source": [
    "print(acn.shape)"
   ]
  },
  {
   "cell_type": "code",
   "execution_count": null,
   "metadata": {},
   "outputs": [],
   "source": [
    "rows, cols, channels = acn.shape"
   ]
  },
  {
   "cell_type": "code",
   "execution_count": null,
   "metadata": {},
   "outputs": [],
   "source": [
    "roi = ara [0:rows, 0:cols]\n",
    "\n",
    "cv2.imshow('roi', roi)\n",
    "cv2.waitKey(0)\n",
    "cv2.destroyAllWindows()"
   ]
  },
  {
   "cell_type": "code",
   "execution_count": 110,
   "metadata": {},
   "outputs": [],
   "source": [
    "acn_gray = cv2.cvtColor(acn, cv2.COLOR_BGR2GRAY)\n",
    "\n",
    "#thresholding\n",
    "\n",
    "ret, mask = cv2.threshold(acn_gray, 220, 255, cv2.THRESH_BINARY_INV)\n",
    "\n",
    "cv2.imshow('mask', mask)\n",
    "cv2.waitKey(0)\n",
    "cv2.destroyAllWindows()"
   ]
  },
  {
   "cell_type": "code",
   "execution_count": 111,
   "metadata": {},
   "outputs": [],
   "source": [
    "#create the inverse mask\n",
    "mask_inv = cv2.bitwise_not(mask)\n",
    "\n",
    "cv2.imshow('mask_inv', mask_inv)\n",
    "cv2.waitKey(0)\n",
    "cv2.destroyAllWindows()"
   ]
  },
  {
   "cell_type": "code",
   "execution_count": null,
   "metadata": {},
   "outputs": [],
   "source": [
    "#black out the area of logo in ROI\n",
    "ara_bg = cv2.bitwise_and(roi, roi, mask=mask_inv)\n",
    "\n",
    "cv2.imshow('ara_bg',cap_bg)\n",
    "cv2.waitKey(0)\n",
    "cv2.destroyAllWindows()"
   ]
  },
  {
   "cell_type": "code",
   "execution_count": null,
   "metadata": {},
   "outputs": [],
   "source": [
    "#take region of logo from logo image\n",
    "acn_fg = cv2.bitwise_and(acn, acn, mask=mask)\n",
    "\n",
    "cv2.imshow('accenture_fg', acn_fg)\n",
    "cv2.waitKey(0)\n",
    "cv2.destroyAllWindows()"
   ]
  },
  {
   "cell_type": "code",
   "execution_count": 125,
   "metadata": {},
   "outputs": [],
   "source": [
    "#put logo on the region of interest\n",
    "\n",
    "dst = cv2.add(ara_bg, acn_fg)\n",
    "ara[0:rows, 0:cols] = dst\n",
    "\n",
    "cv2.namedWindow('ara_acn', cv2.WINDOW_NORMAL)\n",
    "cv2.imshow('ara_acn', ara)\n",
    "cv2.waitKey(0)\n",
    "cv2.destroyAllWindows()\n"
   ]
  },
  {
   "cell_type": "code",
   "execution_count": 98,
   "metadata": {},
   "outputs": [
    {
     "data": {
      "text/plain": [
       "True"
      ]
     },
     "execution_count": 98,
     "metadata": {},
     "output_type": "execute_result"
    }
   ],
   "source": [
    "cv2.imwrite('buenaventura-ara.jpg', ara)"
   ]
  },
  {
   "cell_type": "code",
   "execution_count": null,
   "metadata": {},
   "outputs": [],
   "source": [
    "def show_webcam():   \n",
    "    cap = cv2.VideoCapture(0)\n",
    "    while True:\n",
    "        _, frame = cap.read()\n",
    "        cv2.imshow('webcam', frame)\n",
    "        cv2.imshow(acn_fg)\n",
    "        if cv2.waitKey(1) == 27:\n",
    "            break\n",
    "    cap.release()\n",
    "    cv2.destroyAllWindows() \n",
    "show_webcam() "
   ]
  },
  {
   "cell_type": "code",
   "execution_count": null,
   "metadata": {},
   "outputs": [],
   "source": []
  }
 ],
 "metadata": {
  "kernelspec": {
   "display_name": "Python 3",
   "language": "python",
   "name": "python3"
  },
  "language_info": {
   "codemirror_mode": {
    "name": "ipython",
    "version": 3
   },
   "file_extension": ".py",
   "mimetype": "text/x-python",
   "name": "python",
   "nbconvert_exporter": "python",
   "pygments_lexer": "ipython3",
   "version": "3.6.5"
  }
 },
 "nbformat": 4,
 "nbformat_minor": 2
}
